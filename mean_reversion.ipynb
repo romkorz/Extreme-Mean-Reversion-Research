{
 "cells": [
  {
   "cell_type": "code",
   "execution_count": 1,
   "id": "e3ccfff6e18a89fc",
   "metadata": {
    "ExecuteTime": {
     "end_time": "2025-05-20T15:38:31.641492500Z",
     "start_time": "2025-05-20T15:38:30.444688600Z"
    },
    "collapsed": false,
    "execution": {
     "iopub.execute_input": "2025-05-20T15:48:03.182521Z",
     "iopub.status.busy": "2025-05-20T15:48:03.181530Z",
     "iopub.status.idle": "2025-05-20T15:48:04.233763Z",
     "shell.execute_reply": "2025-05-20T15:48:04.234763Z"
    }
   },
   "outputs": [],
   "source": [
    "\"\"\"\n",
    "take-profits can no longer be hit in the same bar\n",
    "they were opened unless that bar’s close crosses the TP level.\n",
    "If a bar touches both TP and SL levels, SL always wins.\n",
    "\"\"\"\n",
    "import pandas as pd\n",
    "import numpy as np\n",
    "import matplotlib.pyplot as plt\n",
    "from dataclasses import dataclass\n",
    "from pathlib import Path\n",
    "\n",
    "# ───────────────────── CONFIG ──────────────────────\n",
    "@dataclass\n",
    "class Config:\n",
    "    data_path: Path = Path(\"C:/Users/user/Desktop/bybithistory/download/alldata/TRBUSDT.csv\")\n",
    "    H: int = 9          # look-back window (minutes) for avg range R\n",
    "    K: float = 9        # stop-loss factor (distance = ½·R·K)\n",
    "    M: float = 1.0      # contract multiplier (BTC per contract)\n",
    "    initial_equity: float = 100_000\n",
    "    slippage_pct: float = 0.0035   # 0.3% slippage on stop-loss exits + +0.05% market fee\n",
    "    min_r_half_pct: float = 0.0015  \n",
    "\n",
    "# ───────────────────── DATA I/O ────────────────────\n",
    "def load_data(path: Path) -> pd.DataFrame:\n",
    "    df = pd.read_csv(path)\n",
    "    df[\"datetime_utc\"] = pd.to_datetime(df[\"open_time\"], unit=\"ms\", utc=True)\n",
    "    return (\n",
    "        df[[\"datetime_utc\", \"open\", \"high\", \"low\", \"close\", \"volume\"]]\n",
    "        .sort_values(\"datetime_utc\")\n",
    "        .reset_index(drop=True)\n",
    "    )\n",
    "\n",
    "# ────────────── SIZING HELPERS ───────────────\n",
    "def make_weights(n_tiers: int, start: float = 0.10, growth: float = 0.75):\n",
    "    raw = start * growth ** np.arange(n_tiers)\n",
    "    return raw / raw.sum()\n",
    "\n",
    "# Nine-tier ladder: F factors 6.0 … 8.5 in 0.5 steps\n",
    "F_GRID = np.arange(6.0, 9.0, 0.5)\n",
    "W_GRID = make_weights(len(F_GRID))\n",
    "DIR    = {\"long\": 1, \"short\": -1}\n",
    "\n",
    "# ────────────── STRATEGY CLASS ───────────────\n",
    "class RangeScalperLadder:\n",
    "    def __init__(self, df: pd.DataFrame, H: int, K: float,\n",
    "                 min_r_half_pct: float = 0.0005):\n",
    "        self.df = df.copy()\n",
    "        self.H, self.K = H, K\n",
    "        self.min_r_half_pct = min_r_half_pct\n",
    "        self.F_grid, self.W_grid = F_GRID, W_GRID\n",
    "        self._prepare()\n",
    "\n",
    "    # ---------- internal ----------\n",
    "    def _prepare(self):\n",
    "        self.df[\"R\"] = (self.df[\"high\"] - self.df[\"low\"]).rolling(self.H).mean()\n",
    "\n",
    "    # ---------- helpers ----------\n",
    "    def _open_position(self, idx, side, fills_bool, mid, e_dists, R):\n",
    "        \"\"\"Create a new position object with per-tier bookkeeping.\"\"\"\n",
    "        tiers   = np.where(fills_bool)[0]\n",
    "        prices  = mid - DIR[side] * e_dists[tiers]\n",
    "        sizes   = self.W_grid[tiers]\n",
    "        now     = self.df.iloc[idx][\"datetime_utc\"]\n",
    "\n",
    "        tp_prices  = {}\n",
    "        entry_times = {}\n",
    "        tier_sizes  = {}\n",
    "        for t, p, sz in zip(tiers, prices, sizes):\n",
    "            dist  = 0.5 * R * (self.K - self.F_grid[t])\n",
    "            tp_prices[t]  = p + DIR[side] * dist\n",
    "            entry_times[t] = now\n",
    "            tier_sizes[t]  = sz\n",
    "\n",
    "        return {\n",
    "            \"idx_open\": idx,\n",
    "            \"side\": side,\n",
    "            \"tiers_filled\": set(tiers),\n",
    "            \"entry_prices\": dict(zip(tiers, prices)),\n",
    "            \"entry_times\": entry_times,\n",
    "            \"tier_sizes\": tier_sizes,\n",
    "            \"size_filled\": sizes.sum(),\n",
    "            \"tp_prices\": tp_prices,\n",
    "            \"sl_price\": mid - DIR[side] * 0.5 * R * self.K,\n",
    "        }\n",
    "\n",
    "    # ★★★★★  UPDATED SECTION  ★★★★★\n",
    "    def _manage_position(self, i_idx: int, pos: dict, row: pd.Series, R: float):\n",
    "        \"\"\"Update stops, check fills, execute TP/SL, return (trades, new_pos).\"\"\"\n",
    "        trades, side, DIR_S = [], pos[\"side\"], DIR[pos[\"side\"]]\n",
    "        h, l, c = row[\"high\"], row[\"low\"], row[\"close\"]\n",
    "\n",
    "        # ── 1.  Possible extra ladder fills ────────────────────────────────\n",
    "        prev_close = self.df.iloc[i_idx - 1][\"close\"]\n",
    "        e_dists    = 0.5 * R * self.F_grid\n",
    "        fills      = (l < prev_close - e_dists) if side == \"long\" \\\n",
    "                     else (h > prev_close + e_dists)\n",
    "        new_tiers  = set(np.where(fills)[0]) - pos[\"tiers_filled\"]\n",
    "\n",
    "        if new_tiers:\n",
    "            now = row[\"datetime_utc\"]\n",
    "            for t in new_tiers:\n",
    "                p = prev_close - DIR_S * e_dists[t]\n",
    "                pos[\"entry_prices\"][t] = p\n",
    "                pos[\"entry_times\"][t]  = now\n",
    "                pos[\"tier_sizes\"][t]   = self.W_grid[t]\n",
    "                dist = 0.5 * R * (self.K - self.F_grid[t])\n",
    "                pos[\"tp_prices\"][t] = p + DIR_S * dist\n",
    "            pos[\"tiers_filled\"].update(new_tiers)\n",
    "            pos[\"size_filled\"] = sum(pos[\"tier_sizes\"].values())\n",
    "\n",
    "        # ── 2.  Shared stop-loss (SL first; overrides TP if both hit) ──────\n",
    "        sl_hit = (side == \"long\" and l <= pos[\"sl_price\"]) or \\\n",
    "                 (side == \"short\" and h >= pos[\"sl_price\"])\n",
    "\n",
    "        if sl_hit:\n",
    "            for t in list(pos[\"tiers_filled\"]):\n",
    "                trades.append({\n",
    "                    \"entry_time\": pos[\"entry_times\"][t],\n",
    "                    \"exit_time\" : row[\"datetime_utc\"],\n",
    "                    \"side\"      : side,\n",
    "                    \"entry_price\": pos[\"entry_prices\"][t],\n",
    "                    \"exit_price\" : pos[\"sl_price\"],\n",
    "                    \"exit_type\" : \"sl\",\n",
    "                    \"filled_size\": pos[\"tier_sizes\"][t],\n",
    "                    \"tiers\"     : [t],\n",
    "                })\n",
    "            return trades, None  # flat\n",
    "\n",
    "        # ── 3.  Tier-level take-profits ────────────────────────────────────\n",
    "        hit = []\n",
    "        for t, tp in pos[\"tp_prices\"].items():\n",
    "            same_bar = pos[\"entry_times\"][t] == row[\"datetime_utc\"]\n",
    "            if same_bar:\n",
    "                cond = (side == \"long\" and c >= tp) or \\\n",
    "                       (side == \"short\" and c <= tp)\n",
    "            else:\n",
    "                cond = (side == \"long\" and h >= tp) or \\\n",
    "                       (side == \"short\" and l <= tp)\n",
    "            if cond:\n",
    "                hit.append(t)\n",
    "\n",
    "        for t in hit:\n",
    "            trades.append({\n",
    "                \"entry_time\": pos[\"entry_times\"][t],\n",
    "                \"exit_time\" : row[\"datetime_utc\"],\n",
    "                \"side\"      : side,\n",
    "                \"entry_price\": pos[\"entry_prices\"][t],\n",
    "                \"exit_price\" : pos[\"tp_prices\"][t],\n",
    "                \"exit_type\" : \"tp\",\n",
    "                \"filled_size\": pos[\"tier_sizes\"][t],\n",
    "                \"tiers\"     : [t],\n",
    "            })\n",
    "            for k in (\"entry_prices\", \"entry_times\", \"tier_sizes\", \"tp_prices\"):\n",
    "                del pos[k][t]\n",
    "            pos[\"tiers_filled\"].remove(t)\n",
    "\n",
    "        pos[\"size_filled\"] = sum(pos[\"tier_sizes\"].values())\n",
    "\n",
    "        # ── 4.  Flat? ──────────────────────────────────────────────────────\n",
    "        if not pos[\"tiers_filled\"]:\n",
    "            return trades, None\n",
    "\n",
    "        # keep position alive\n",
    "        return trades, pos\n",
    "\n",
    "    # ---------- public ----------\n",
    "    def run(self) -> pd.DataFrame:\n",
    "        trades, active = [], None\n",
    "\n",
    "        for i in range(self.H, len(self.df)):\n",
    "            row, prev = self.df.iloc[i], self.df.iloc[i - 1]\n",
    "            R = row[\"R\"]\n",
    "            if np.isnan(R) or R <= 0:\n",
    "                continue\n",
    "\n",
    "            e_dists = 0.5 * R * self.F_grid\n",
    "            mid_prev = prev[\"close\"]\n",
    "\n",
    "            # hard filter\n",
    "            if (0.5 * R) / mid_prev < self.min_r_half_pct and active is None:\n",
    "                continue\n",
    "\n",
    "            # ── ENTRY ──────────────────────────────────────────────────────\n",
    "            if active is None:\n",
    "                fills_long  = row[\"low\"]  < (mid_prev - e_dists)\n",
    "                fills_short = row[\"high\"] > (mid_prev + e_dists)\n",
    "                if fills_long.any():\n",
    "                    active = self._open_position(i, \"long\", fills_long, mid_prev, e_dists, R)\n",
    "                elif fills_short.any():\n",
    "                    active = self._open_position(i, \"short\", fills_short, mid_prev, e_dists, R)\n",
    "                continue\n",
    "\n",
    "            # ── MANAGE ─────────────────────────────────────────────────────\n",
    "            closed, active = self._manage_position(i, active, row, R)\n",
    "            trades.extend(closed)\n",
    "\n",
    "        return pd.DataFrame(trades)"
   ]
  },
  {
   "cell_type": "code",
   "execution_count": 2,
   "id": "207454dcc9bb8298",
   "metadata": {
    "ExecuteTime": {
     "end_time": "2025-05-20T15:41:57.998473500Z",
     "start_time": "2025-05-20T15:38:32.157605500Z"
    },
    "collapsed": false,
    "execution": {
     "iopub.execute_input": "2025-05-20T15:48:04.244764Z",
     "iopub.status.busy": "2025-05-20T15:48:04.244764Z",
     "iopub.status.idle": "2025-05-20T15:51:25.143464Z",
     "shell.execute_reply": "2025-05-20T15:51:25.142464Z"
    }
   },
   "outputs": [],
   "source": [
    "cfg = Config()\n",
    "df  = load_data(cfg.data_path)\n",
    "\n",
    "commission_rates = [0.00015]     \n",
    "metrics, eq_curves, dd_curves, returns_by_rate = [], {}, {}, {}\n",
    "\n",
    "for rate in commission_rates:\n",
    "    scalper = RangeScalperLadder(df, cfg.H, cfg.K, cfg.min_r_half_pct)\n",
    "    trades  = scalper.run().sort_values(\"exit_time\").reset_index(drop=True)\n",
    "\n",
    "    equity = cfg.initial_equity\n",
    "    eq_series, dd_series, rec = [], [], []\n",
    "\n",
    "    for _, t in trades.iterrows():\n",
    "        ep, xp, side, e_type = t[\"entry_price\"], t[\"exit_price\"], t[\"side\"], t[\"exit_type\"]\n",
    "\n",
    "        # slippage only on SL exits\n",
    "        if e_type == \"sl\":\n",
    "            xp *= (1 - cfg.slippage_pct) if side == \"long\" else (1 + cfg.slippage_pct)\n",
    "\n",
    "        units = equity * t[\"filled_size\"] / (ep * cfg.M)\n",
    "        direction = 1 if side == \"long\" else -1\n",
    "        gross_pnl = units * cfg.M * (xp - ep) * direction\n",
    "        commission = rate * units * cfg.M * (ep + xp)\n",
    "        pnl = gross_pnl - commission\n",
    "\n",
    "        prev_eq = equity\n",
    "        equity += pnl\n",
    "        eq_series.append((t[\"exit_time\"], equity))\n",
    "        running_max = max([e for _, e in eq_series] + [cfg.initial_equity])\n",
    "        dd_series.append((t[\"exit_time\"], equity / running_max - 1))\n",
    "\n",
    "        rec.append({\n",
    "            \"pnl\": pnl,\n",
    "            \"return_pct\": pnl / prev_eq * 100,\n",
    "            \"hold_min\": (t[\"exit_time\"] - t[\"entry_time\"]).total_seconds() / 60,\n",
    "            \"side\": side,\n",
    "            \"exit_type\": e_type,\n",
    "        })\n",
    "\n",
    "    tr = pd.DataFrame(rec)\n",
    "    returns_by_rate[rate] = tr\n",
    "\n",
    "    win = tr[tr.pnl > 0]\n",
    "    loss = tr[tr.pnl <= 0]\n",
    "    metrics.append({\n",
    "        \"rate\": rate,\n",
    "        \"trades\": len(tr),\n",
    "        \"win_rate_%\": len(win) / len(tr) * 100 if len(tr) else np.nan,\n",
    "        \"avg_return_%\": tr[\"return_pct\"].mean(),\n",
    "        \"avg_win_%\": win[\"return_pct\"].mean(),\n",
    "        \"avg_loss_%\": loss[\"return_pct\"].mean(),\n",
    "        \"avg_hold_win_min\": win[\"hold_min\"].mean(),\n",
    "        \"avg_hold_loss_min\": loss[\"hold_min\"].mean(),\n",
    "        \"profit_factor\": win.pnl.sum() / (-loss.pnl.sum()) if loss.pnl.sum() else np.nan,\n",
    "        \"max_dd_%\": min([d for _, d in dd_series]) * 100 if dd_series else 0,\n",
    "    })\n",
    "    eq_curves[rate] = pd.DataFrame(eq_series, columns=[\"time\", \"equity\"])\n",
    "    dd_curves[rate] = pd.DataFrame(dd_series, columns=[\"time\", \"drawdown\"])"
   ]
  },
  {
   "cell_type": "code",
   "execution_count": 3,
   "id": "37ec190da82f25b9",
   "metadata": {
    "ExecuteTime": {
     "end_time": "2025-05-20T15:41:58.026479300Z",
     "start_time": "2025-05-20T15:41:58.001474200Z"
    },
    "collapsed": false,
    "execution": {
     "iopub.execute_input": "2025-05-20T15:51:25.147464Z",
     "iopub.status.busy": "2025-05-20T15:51:25.146464Z",
     "iopub.status.idle": "2025-05-20T15:51:25.158467Z",
     "shell.execute_reply": "2025-05-20T15:51:25.158467Z"
    }
   },
   "outputs": [
    {
     "name": "stdout",
     "output_type": "stream",
     "text": [
      "   rate  trades  win_rate_%  avg_return_%  avg_win_%  avg_loss_%  avg_hold_win_min  avg_hold_loss_min  profit_factor   max_dd_%\n",
      "0.00015    5487   69.436851      0.022225   0.134421   -0.232675          1.837533           2.370304       1.251756 -14.905019\n"
     ]
    }
   ],
   "source": [
    "print(pd.DataFrame(metrics).to_string(index=False))"
   ]
  },
  {
   "cell_type": "code",
   "execution_count": 4,
   "id": "cd06e5672a651c68",
   "metadata": {
    "ExecuteTime": {
     "end_time": "2025-05-20T15:41:58.325547300Z",
     "start_time": "2025-05-20T15:41:58.027480300Z"
    },
    "collapsed": false,
    "execution": {
     "iopub.execute_input": "2025-05-20T15:51:25.180472Z",
     "iopub.status.busy": "2025-05-20T15:51:25.180472Z",
     "iopub.status.idle": "2025-05-20T15:51:25.459541Z",
     "shell.execute_reply": "2025-05-20T15:51:25.459541Z"
    }
   },
   "outputs": [
    {
     "data": {
      "image/png": "[encoded data removed]",
      "text/plain": [
       "<Figure size 864x432 with 1 Axes>"
      ]
     },
     "metadata": {
      "needs_background": "light"
     },
     "output_type": "display_data"
    }
   ],
   "source": [
    "plt.figure(figsize=(12, 6))\n",
    "for rate, df_eq in eq_curves.items():\n",
    "    x = df_eq[\"time\"].to_numpy()\n",
    "    y = df_eq[\"equity\"].to_numpy()\n",
    "    plt.plot(x, y, label=f\"Rate = {rate}\")\n",
    "plt.title(\"Equity Curve\")\n",
    "plt.xlabel(\"Time\")\n",
    "plt.ylabel(\"Equity\")\n",
    "plt.legend()\n",
    "plt.grid(True)\n",
    "plt.tight_layout()\n",
    "plt.show()"
   ]
  },
  {
   "cell_type": "code",
   "execution_count": 5,
   "id": "25905bbf0a2ea666",
   "metadata": {
    "ExecuteTime": {
     "end_time": "2025-05-20T15:41:59.626839200Z",
     "start_time": "2025-05-20T15:41:58.332551400Z"
    },
    "collapsed": false,
    "execution": {
     "iopub.execute_input": "2025-05-20T15:51:25.472543Z",
     "iopub.status.busy": "2025-05-20T15:51:25.463541Z",
     "iopub.status.idle": "2025-05-20T15:51:26.678813Z",
     "shell.execute_reply": "2025-05-20T15:51:26.678813Z"
    }
   },
   "outputs": [
    {
     "data": {
      "image/png": "[encoded data removed]",
      "text/plain": [
       "<Figure size 864x432 with 1 Axes>"
      ]
     },
     "metadata": {
      "needs_background": "light"
     },
     "output_type": "display_data"
    }
   ],
   "source": [
    "for rate, tr in returns_by_rate.items():\n",
    "    rtn = tr[\"return_pct\"]\n",
    "    bins = np.arange(rtn.min(), rtn.max() + 0.01, 0.01)\n",
    "\n",
    "    plt.figure(figsize=(12, 6))\n",
    "    plt.hist(rtn, bins=bins, alpha=0.6, label=f\"Rate = {rate}\")\n",
    "    plt.title(f\"Trade Return Distribution (Rate = {rate})\")\n",
    "    plt.xlabel(\"Return\")\n",
    "    plt.ylabel(\"Frequency\")\n",
    "    plt.legend()\n",
    "    plt.tight_layout()\n",
    "    plt.show()"
   ]
  },
  {
   "cell_type": "code",
   "execution_count": null,
   "id": "c915b385980c6661",
   "metadata": {
    "collapsed": false
   },
   "outputs": [],
   "source": []
  }
 ],
 "metadata": {
  "kernelspec": {
   "display_name": "Python 3",
   "language": "python",
   "name": "python3"
  },
  "language_info": {
   "codemirror_mode": {
    "name": "ipython",
    "version": 3
   },
   "file_extension": ".py",
   "mimetype": "text/x-python",
   "name": "python",
   "nbconvert_exporter": "python",
   "pygments_lexer": "ipython3",
   "version": "3.10.2"
  }
 },
 "nbformat": 4,
 "nbformat_minor": 5
}
